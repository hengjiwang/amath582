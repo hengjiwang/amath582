{
 "cells": [
  {
   "cell_type": "markdown",
   "metadata": {},
   "source": [
    "# British Birdsong Classification Using CNN on the Spectrogram Images"
   ]
  },
  {
   "cell_type": "markdown",
   "metadata": {},
   "source": [
    "This project is aiming at identifying the genus of a bird from 66 different genuses using a CNN model on the spectrogram images of the bird songs."
   ]
  },
  {
   "cell_type": "code",
   "execution_count": 1,
   "metadata": {
    "ExecuteTime": {
     "end_time": "2019-03-20T05:07:19.606402Z",
     "start_time": "2019-03-20T05:07:09.084456Z"
    }
   },
   "outputs": [
    {
     "name": "stderr",
     "output_type": "stream",
     "text": [
      "Using TensorFlow backend.\n"
     ]
    }
   ],
   "source": [
    "import os\n",
    "import numpy as np\n",
    "import matplotlib.pyplot as plt\n",
    "import pandas as pd\n",
    "import soundfile as sf\n",
    "import re\n",
    "import librosa\n",
    "import librosa.display\n",
    "from tqdm import tqdm\n",
    "import sklearn\n",
    "import keras\n",
    "import keras.layers as layers\n",
    "from keras.models import Sequential"
   ]
  },
  {
   "cell_type": "markdown",
   "metadata": {},
   "source": [
    "## 1. Load Data"
   ]
  },
  {
   "cell_type": "code",
   "execution_count": 2,
   "metadata": {
    "ExecuteTime": {
     "end_time": "2019-03-18T07:33:08.404256Z",
     "start_time": "2019-03-18T07:33:08.396901Z"
    }
   },
   "outputs": [],
   "source": [
    "path = './british-birdsong-dataset/songs/'\n",
    "files= os.listdir(path)\n",
    "nfile = len(files);\n",
    "meta = pd.read_csv('./british-birdsong-dataset/birdsong_metadata.csv')"
   ]
  },
  {
   "cell_type": "markdown",
   "metadata": {},
   "source": [
    "## 2. Constructing Datasets"
   ]
  },
  {
   "cell_type": "code",
   "execution_count": 3,
   "metadata": {
    "ExecuteTime": {
     "end_time": "2019-03-18T07:33:08.646452Z",
     "start_time": "2019-03-18T07:33:08.644258Z"
    }
   },
   "outputs": [],
   "source": [
    "def index(filename_):\n",
    "    '''returns the index of the filename in metadata'''\n",
    "    return np.where(meta.file_id == np.int(re.findall('\\d+', filename_)[0]))[0][0]"
   ]
  },
  {
   "cell_type": "code",
   "execution_count": 4,
   "metadata": {
    "ExecuteTime": {
     "end_time": "2019-03-18T07:33:08.898029Z",
     "start_time": "2019-03-18T07:33:08.889367Z"
    }
   },
   "outputs": [],
   "source": [
    "def boostrap_sample(song_, num, rs, tclip):\n",
    "    '''sample num clips from song_ '''\n",
    "    spcs = []\n",
    "    \n",
    "    for j in range(num):\n",
    "        pstart = np.random.randint(len(song_) - tclip*rs)\n",
    "        pend = pstart + tclip*rs\n",
    "        clip = song_[pstart:pend]\n",
    "        \n",
    "        # construct spectrograms for clips\n",
    "        X = librosa.stft(clip, n_fft=100, hop_length=5000)\n",
    "        # Xdb = librosa.amplitude_to_db(abs(X))\n",
    "        \n",
    "        spcs.append(abs(X))\n",
    "    \n",
    "    spcs = np.array(spcs)\n",
    "        \n",
    "    return spcs"
   ]
  },
  {
   "cell_type": "code",
   "execution_count": 5,
   "metadata": {
    "ExecuteTime": {
     "end_time": "2019-03-18T07:33:09.139283Z",
     "start_time": "2019-03-18T07:33:09.135127Z"
    }
   },
   "outputs": [],
   "source": [
    "time_clip = 10;\n",
    "npick = 100;\n",
    "train_set = [];\n",
    "valid_set = [];\n",
    "test_set = [];\n",
    "genuses_train = [];\n",
    "genuses_valid = [];\n",
    "genuses_test = [];\n",
    "count_cnames = {}; \n",
    "cnames_train = [];\n",
    "cnames_valid = [];\n",
    "cnames_test = [];"
   ]
  },
  {
   "cell_type": "code",
   "execution_count": 6,
   "metadata": {
    "ExecuteTime": {
     "end_time": "2019-03-18T07:33:46.276623Z",
     "start_time": "2019-03-18T07:33:09.388512Z"
    }
   },
   "outputs": [
    {
     "name": "stderr",
     "output_type": "stream",
     "text": [
      "100%|██████████| 264/264 [00:36<00:00,  8.21it/s]\n"
     ]
    }
   ],
   "source": [
    "specs = np.zeros((npick*nfile, 51, 89), dtype = np.float32)\n",
    "genuses = []\n",
    "cnames = []\n",
    "\n",
    "count = 0\n",
    "\n",
    "for k in tqdm(range(nfile)):\n",
    "    filename = files[k]\n",
    "    song, Fs = sf.read(path+filename)\n",
    "    T = len(song)/Fs\n",
    "    \n",
    "    genus = meta.genus[index(filename)]\n",
    "    cname = meta.english_cname[index(filename)];\n",
    "    genuses.extend([genus]*npick)\n",
    "    cnames.extend([cname]*npick)\n",
    "    \n",
    "    if T < time_clip:\n",
    "        continue\n",
    "    \n",
    "#     # build dictionary for bird names\n",
    "#     if cname in count_cnames:\n",
    "#         count_cnames[cname] += 1\n",
    "#     else:\n",
    "#         count_cnames[cname] = 1\n",
    "    \n",
    "    specs[k*npick:k*npick+npick,:,:] = boostrap_sample(song, npick, Fs, time_clip)"
   ]
  },
  {
   "cell_type": "markdown",
   "metadata": {},
   "source": [
    "## 3. Divide Training/Validation/Test"
   ]
  },
  {
   "cell_type": "code",
   "execution_count": 7,
   "metadata": {
    "ExecuteTime": {
     "end_time": "2019-03-18T07:33:51.107858Z",
     "start_time": "2019-03-18T07:33:49.662797Z"
    }
   },
   "outputs": [],
   "source": [
    "# remove black images\n",
    "\n",
    "inds = []\n",
    "\n",
    "for j in range(len(specs)):\n",
    "    if sum(sum(specs[j]==0))==51*89:\n",
    "        inds.append(j)\n",
    "\n",
    "specs = np.delete(specs, inds, axis=0)\n",
    "genuses = np.delete(np.array(genuses), inds)\n",
    "cnames =np.delete(np.array(cnames), inds)"
   ]
  },
  {
   "cell_type": "code",
   "execution_count": 9,
   "metadata": {
    "ExecuteTime": {
     "end_time": "2019-03-18T07:34:11.967644Z",
     "start_time": "2019-03-18T07:34:11.807285Z"
    }
   },
   "outputs": [],
   "source": [
    "# shuffle the datasets in the same way\n",
    "\n",
    "inds = np.arange(0, len(specs), 1)\n",
    "inds = np.random.permutation(inds)\n",
    "\n",
    "specs = specs[inds, :, :]\n",
    "genuses = genuses[inds]\n",
    "cnames = cnames[inds]"
   ]
  },
  {
   "cell_type": "code",
   "execution_count": 23,
   "metadata": {
    "ExecuteTime": {
     "end_time": "2019-03-18T07:38:44.416487Z",
     "start_time": "2019-03-18T07:38:43.615872Z"
    },
    "code_folding": []
   },
   "outputs": [],
   "source": [
    "# rescale images to [0,1]\n",
    "\n",
    "data_mat = np.reshape(specs, (len(specs), -1))\n",
    "data_mat = sklearn.preprocessing.minmax_scale(data_mat, axis=1)\n",
    "specs_rescale = np.reshape(data_mat, (len(specs), 51, 89,1))"
   ]
  },
  {
   "cell_type": "code",
   "execution_count": 57,
   "metadata": {
    "ExecuteTime": {
     "end_time": "2019-03-20T04:38:41.354879Z",
     "start_time": "2019-03-20T04:38:41.294755Z"
    }
   },
   "outputs": [],
   "source": [
    "# change elements of labels to number vectors\n",
    "\n",
    "list_genus = np.unique(genuses)\n",
    "\n",
    "num_labels = []\n",
    "\n",
    "for genus in genuses:\n",
    "    num_labels.append(np.where(genus==list_genus)[0][0])\n",
    "    \n",
    "labels = np.zeros((len(genuses), len(list_genus)))\n",
    "\n",
    "for j in range(len(labels)):\n",
    "    labels[j, num_labels[j]] = 1"
   ]
  },
  {
   "cell_type": "code",
   "execution_count": 131,
   "metadata": {
    "ExecuteTime": {
     "end_time": "2019-03-20T04:56:40.273681Z",
     "start_time": "2019-03-20T04:56:40.268858Z"
    }
   },
   "outputs": [],
   "source": [
    "# divide training validation and test\n",
    "\n",
    "x_train = specs_rescale[0:np.int(0.6*len(specs))]\n",
    "x_valid = specs_rescale[np.int(0.6*len(specs)):np.int(0.8*len(specs))]\n",
    "x_test = specs_rescale[np.int(0.8*len(specs)):]\n",
    "\n",
    "y_train = labels[0:np.int(0.6*len(specs))]\n",
    "y_valid = labels[np.int(0.6*len(specs)):np.int(0.8*len(specs))]\n",
    "y_test = labels[np.int(0.8*len(specs)):]"
   ]
  },
  {
   "cell_type": "markdown",
   "metadata": {
    "ExecuteTime": {
     "end_time": "2019-03-18T06:34:06.440957Z",
     "start_time": "2019-03-18T06:34:06.436209Z"
    }
   },
   "source": [
    "## 4. Train Network"
   ]
  },
  {
   "cell_type": "code",
   "execution_count": 132,
   "metadata": {
    "ExecuteTime": {
     "end_time": "2019-03-20T04:56:41.010203Z",
     "start_time": "2019-03-20T04:56:40.958196Z"
    }
   },
   "outputs": [],
   "source": [
    "model = keras.Sequential()\n",
    "\n",
    "model.add(layers.Conv2D(filters=6, kernel_size=(3, 3), activation='relu', input_shape=(51,89,1)))\n",
    "model.add(layers.MaxPooling2D())\n",
    "\n",
    "model.add(layers.Conv2D(filters=16, kernel_size=(3, 3), activation='relu'))\n",
    "model.add(layers.MaxPooling2D())\n",
    "\n",
    "model.add(layers.Flatten())\n",
    "\n",
    "model.add(layers.Dense(units=120, activation='relu'))\n",
    "\n",
    "model.add(layers.Dense(units=84, activation='relu'))\n",
    "\n",
    "model.add(layers.Dense(units=66, activation = 'softmax'))"
   ]
  },
  {
   "cell_type": "code",
   "execution_count": 133,
   "metadata": {
    "ExecuteTime": {
     "end_time": "2019-03-20T04:56:41.695164Z",
     "start_time": "2019-03-20T04:56:41.692298Z"
    },
    "scrolled": false
   },
   "outputs": [
    {
     "name": "stdout",
     "output_type": "stream",
     "text": [
      "_________________________________________________________________\n",
      "Layer (type)                 Output Shape              Param #   \n",
      "=================================================================\n",
      "conv2d_8 (Conv2D)            (None, 49, 87, 6)         60        \n",
      "_________________________________________________________________\n",
      "max_pooling2d_7 (MaxPooling2 (None, 24, 43, 6)         0         \n",
      "_________________________________________________________________\n",
      "conv2d_9 (Conv2D)            (None, 22, 41, 16)        880       \n",
      "_________________________________________________________________\n",
      "max_pooling2d_8 (MaxPooling2 (None, 11, 20, 16)        0         \n",
      "_________________________________________________________________\n",
      "flatten_4 (Flatten)          (None, 3520)              0         \n",
      "_________________________________________________________________\n",
      "dense_10 (Dense)             (None, 120)               422520    \n",
      "_________________________________________________________________\n",
      "dense_11 (Dense)             (None, 84)                10164     \n",
      "_________________________________________________________________\n",
      "dense_12 (Dense)             (None, 66)                5610      \n",
      "=================================================================\n",
      "Total params: 439,234\n",
      "Trainable params: 439,234\n",
      "Non-trainable params: 0\n",
      "_________________________________________________________________\n"
     ]
    }
   ],
   "source": [
    "model.summary()"
   ]
  },
  {
   "cell_type": "code",
   "execution_count": 134,
   "metadata": {
    "ExecuteTime": {
     "end_time": "2019-03-20T04:56:42.393073Z",
     "start_time": "2019-03-20T04:56:42.375315Z"
    }
   },
   "outputs": [],
   "source": [
    "model.compile(loss='mse', optimizer='adam')"
   ]
  },
  {
   "cell_type": "code",
   "execution_count": 145,
   "metadata": {
    "ExecuteTime": {
     "end_time": "2019-03-20T05:00:21.957347Z",
     "start_time": "2019-03-20T04:58:46.227827Z"
    },
    "scrolled": true
   },
   "outputs": [
    {
     "name": "stdout",
     "output_type": "stream",
     "text": [
      "Train on 15060 samples, validate on 5020 samples\n",
      "Epoch 1/100\n",
      "15060/15060 [==============================] - 1s 63us/step - loss: 0.0016 - val_loss: 0.0036\n",
      "Epoch 2/100\n",
      "15060/15060 [==============================] - 1s 63us/step - loss: 0.0016 - val_loss: 0.0036\n",
      "Epoch 3/100\n",
      "15060/15060 [==============================] - 1s 62us/step - loss: 0.0016 - val_loss: 0.0036\n",
      "Epoch 4/100\n",
      "15060/15060 [==============================] - 1s 62us/step - loss: 0.0016 - val_loss: 0.0037\n",
      "Epoch 5/100\n",
      "15060/15060 [==============================] - 1s 62us/step - loss: 0.0014 - val_loss: 0.0033\n",
      "Epoch 6/100\n",
      "15060/15060 [==============================] - 1s 62us/step - loss: 0.0014 - val_loss: 0.0033\n",
      "Epoch 7/100\n",
      "15060/15060 [==============================] - 1s 63us/step - loss: 0.0014 - val_loss: 0.0033\n",
      "Epoch 8/100\n",
      "15060/15060 [==============================] - 1s 64us/step - loss: 0.0013 - val_loss: 0.0033\n",
      "Epoch 9/100\n",
      "15060/15060 [==============================] - 1s 63us/step - loss: 0.0013 - val_loss: 0.0032\n",
      "Epoch 10/100\n",
      "15060/15060 [==============================] - 1s 63us/step - loss: 0.0012 - val_loss: 0.0032\n",
      "Epoch 11/100\n",
      "15060/15060 [==============================] - 1s 63us/step - loss: 0.0013 - val_loss: 0.0031\n",
      "Epoch 12/100\n",
      "15060/15060 [==============================] - 1s 63us/step - loss: 0.0013 - val_loss: 0.0033\n",
      "Epoch 13/100\n",
      "15060/15060 [==============================] - 1s 64us/step - loss: 0.0012 - val_loss: 0.0031\n",
      "Epoch 14/100\n",
      "15060/15060 [==============================] - 1s 63us/step - loss: 0.0012 - val_loss: 0.0030\n",
      "Epoch 15/100\n",
      "15060/15060 [==============================] - 1s 63us/step - loss: 0.0013 - val_loss: 0.0035\n",
      "Epoch 16/100\n",
      "15060/15060 [==============================] - 1s 64us/step - loss: 0.0012 - val_loss: 0.0032\n",
      "Epoch 17/100\n",
      "15060/15060 [==============================] - 1s 66us/step - loss: 0.0011 - val_loss: 0.0032\n",
      "Epoch 18/100\n",
      "15060/15060 [==============================] - 1s 67us/step - loss: 0.0011 - val_loss: 0.0031\n",
      "Epoch 19/100\n",
      "15060/15060 [==============================] - 1s 65us/step - loss: 0.0011 - val_loss: 0.0031\n",
      "Epoch 20/100\n",
      "15060/15060 [==============================] - 1s 65us/step - loss: 9.7818e-04 - val_loss: 0.0028\n",
      "Epoch 21/100\n",
      "15060/15060 [==============================] - 1s 64us/step - loss: 9.6034e-04 - val_loss: 0.0030\n",
      "Epoch 22/100\n",
      "15060/15060 [==============================] - 1s 64us/step - loss: 9.3908e-04 - val_loss: 0.0030\n",
      "Epoch 23/100\n",
      "15060/15060 [==============================] - 1s 64us/step - loss: 9.2890e-04 - val_loss: 0.0030\n",
      "Epoch 24/100\n",
      "15060/15060 [==============================] - 1s 66us/step - loss: 0.0010 - val_loss: 0.0031\n",
      "Epoch 25/100\n",
      "15060/15060 [==============================] - 1s 64us/step - loss: 0.0010 - val_loss: 0.0032\n",
      "Epoch 26/100\n",
      "15060/15060 [==============================] - 1s 64us/step - loss: 9.9683e-04 - val_loss: 0.0030\n",
      "Epoch 27/100\n",
      "15060/15060 [==============================] - 1s 64us/step - loss: 9.0701e-04 - val_loss: 0.0029\n",
      "Epoch 28/100\n",
      "15060/15060 [==============================] - 1s 64us/step - loss: 8.8249e-04 - val_loss: 0.0029\n",
      "Epoch 29/100\n",
      "15060/15060 [==============================] - 1s 64us/step - loss: 8.1087e-04 - val_loss: 0.0029\n",
      "Epoch 30/100\n",
      "15060/15060 [==============================] - 1s 63us/step - loss: 7.6610e-04 - val_loss: 0.0026\n",
      "Epoch 31/100\n",
      "15060/15060 [==============================] - 1s 66us/step - loss: 7.5720e-04 - val_loss: 0.0029\n",
      "Epoch 32/100\n",
      "15060/15060 [==============================] - 1s 65us/step - loss: 7.6981e-04 - val_loss: 0.0027\n",
      "Epoch 33/100\n",
      "15060/15060 [==============================] - 1s 64us/step - loss: 7.2668e-04 - val_loss: 0.0027\n",
      "Epoch 34/100\n",
      "15060/15060 [==============================] - 1s 64us/step - loss: 7.1785e-04 - val_loss: 0.0026\n",
      "Epoch 35/100\n",
      "15060/15060 [==============================] - 1s 64us/step - loss: 7.1978e-04 - val_loss: 0.0026\n",
      "Epoch 36/100\n",
      "15060/15060 [==============================] - 1s 64us/step - loss: 7.1505e-04 - val_loss: 0.0027\n",
      "Epoch 37/100\n",
      "15060/15060 [==============================] - 1s 64us/step - loss: 7.2119e-04 - val_loss: 0.0027\n",
      "Epoch 38/100\n",
      "15060/15060 [==============================] - 1s 64us/step - loss: 7.2945e-04 - val_loss: 0.0029\n",
      "Epoch 39/100\n",
      "15060/15060 [==============================] - 1s 65us/step - loss: 7.4909e-04 - val_loss: 0.0029\n",
      "Epoch 40/100\n",
      "15060/15060 [==============================] - 1s 65us/step - loss: 7.9954e-04 - val_loss: 0.0031\n",
      "Epoch 41/100\n",
      "15060/15060 [==============================] - 1s 65us/step - loss: 0.0011 - val_loss: 0.0035\n",
      "Epoch 42/100\n",
      "15060/15060 [==============================] - 1s 65us/step - loss: 9.5503e-04 - val_loss: 0.0030\n",
      "Epoch 43/100\n",
      "15060/15060 [==============================] - 1s 64us/step - loss: 9.2140e-04 - val_loss: 0.0030\n",
      "Epoch 44/100\n",
      "15060/15060 [==============================] - 1s 64us/step - loss: 8.5857e-04 - val_loss: 0.0027\n",
      "Epoch 45/100\n",
      "15060/15060 [==============================] - 1s 65us/step - loss: 6.7982e-04 - val_loss: 0.0026\n",
      "Epoch 46/100\n",
      "15060/15060 [==============================] - 1s 65us/step - loss: 6.2110e-04 - val_loss: 0.0025\n",
      "Epoch 47/100\n",
      "15060/15060 [==============================] - 1s 65us/step - loss: 5.8329e-04 - val_loss: 0.0025\n",
      "Epoch 48/100\n",
      "15060/15060 [==============================] - 1s 65us/step - loss: 5.5599e-04 - val_loss: 0.0026\n",
      "Epoch 49/100\n",
      "15060/15060 [==============================] - 1s 65us/step - loss: 5.4820e-04 - val_loss: 0.0024\n",
      "Epoch 50/100\n",
      "15060/15060 [==============================] - 1s 65us/step - loss: 5.5497e-04 - val_loss: 0.0025\n",
      "Epoch 51/100\n",
      "15060/15060 [==============================] - 1s 65us/step - loss: 5.5129e-04 - val_loss: 0.0025\n",
      "Epoch 52/100\n",
      "15060/15060 [==============================] - 1s 65us/step - loss: 5.6617e-04 - val_loss: 0.0025\n",
      "Epoch 53/100\n",
      "15060/15060 [==============================] - 1s 65us/step - loss: 7.3762e-04 - val_loss: 0.0028\n",
      "Epoch 54/100\n",
      "15060/15060 [==============================] - 1s 65us/step - loss: 6.4126e-04 - val_loss: 0.0025\n",
      "Epoch 55/100\n",
      "15060/15060 [==============================] - 1s 65us/step - loss: 6.1380e-04 - val_loss: 0.0026\n",
      "Epoch 56/100\n",
      "15060/15060 [==============================] - 1s 65us/step - loss: 5.9148e-04 - val_loss: 0.0026\n",
      "Epoch 57/100\n",
      "15060/15060 [==============================] - 1s 65us/step - loss: 5.3164e-04 - val_loss: 0.0024\n",
      "Epoch 58/100\n",
      "15060/15060 [==============================] - 1s 65us/step - loss: 5.0513e-04 - val_loss: 0.0024\n",
      "Epoch 59/100\n",
      "15060/15060 [==============================] - 1s 65us/step - loss: 4.9530e-04 - val_loss: 0.0024\n",
      "Epoch 60/100\n",
      "15060/15060 [==============================] - 1s 65us/step - loss: 4.8620e-04 - val_loss: 0.0024\n",
      "Epoch 61/100\n",
      "15060/15060 [==============================] - 1s 65us/step - loss: 4.8238e-04 - val_loss: 0.0023\n",
      "Epoch 62/100\n",
      "15060/15060 [==============================] - 1s 65us/step - loss: 4.9198e-04 - val_loss: 0.0023\n",
      "Epoch 63/100\n",
      "15060/15060 [==============================] - 1s 65us/step - loss: 5.0567e-04 - val_loss: 0.0025\n",
      "Epoch 64/100\n",
      "15060/15060 [==============================] - 1s 65us/step - loss: 5.8666e-04 - val_loss: 0.0028\n",
      "Epoch 65/100\n",
      "15060/15060 [==============================] - 1s 65us/step - loss: 8.6385e-04 - val_loss: 0.0034\n",
      "Epoch 66/100\n",
      "15060/15060 [==============================] - 1s 65us/step - loss: 9.3663e-04 - val_loss: 0.0029\n",
      "Epoch 67/100\n",
      "15060/15060 [==============================] - 1s 65us/step - loss: 7.0231e-04 - val_loss: 0.0026\n",
      "Epoch 68/100\n",
      "15060/15060 [==============================] - 1s 65us/step - loss: 5.7344e-04 - val_loss: 0.0024\n",
      "Epoch 69/100\n",
      "15060/15060 [==============================] - 1s 65us/step - loss: 5.1727e-04 - val_loss: 0.0023\n",
      "Epoch 70/100\n",
      "15060/15060 [==============================] - 1s 65us/step - loss: 5.1071e-04 - val_loss: 0.0023\n",
      "Epoch 71/100\n",
      "15060/15060 [==============================] - 1s 65us/step - loss: 4.9241e-04 - val_loss: 0.0024\n",
      "Epoch 72/100\n",
      "15060/15060 [==============================] - 1s 65us/step - loss: 4.9166e-04 - val_loss: 0.0023\n",
      "Epoch 73/100\n",
      "15060/15060 [==============================] - 1s 65us/step - loss: 5.1839e-04 - val_loss: 0.0023\n",
      "Epoch 74/100\n",
      "15060/15060 [==============================] - 1s 65us/step - loss: 4.9398e-04 - val_loss: 0.0024\n",
      "Epoch 75/100\n",
      "15060/15060 [==============================] - 1s 61us/step - loss: 5.5003e-04 - val_loss: 0.0024\n",
      "Epoch 76/100\n",
      "15060/15060 [==============================] - 1s 61us/step - loss: 4.9404e-04 - val_loss: 0.0023\n",
      "Epoch 77/100\n",
      "15060/15060 [==============================] - 1s 61us/step - loss: 4.4085e-04 - val_loss: 0.0022\n",
      "Epoch 78/100\n",
      "15060/15060 [==============================] - 1s 61us/step - loss: 3.9851e-04 - val_loss: 0.0022\n",
      "Epoch 79/100\n",
      "15060/15060 [==============================] - 1s 61us/step - loss: 3.9297e-04 - val_loss: 0.0021\n",
      "Epoch 80/100\n",
      "15060/15060 [==============================] - 1s 61us/step - loss: 3.7537e-04 - val_loss: 0.0021\n",
      "Epoch 81/100\n",
      "15060/15060 [==============================] - 1s 61us/step - loss: 3.6937e-04 - val_loss: 0.0021\n",
      "Epoch 82/100\n",
      "15060/15060 [==============================] - 1s 61us/step - loss: 3.6991e-04 - val_loss: 0.0021\n",
      "Epoch 83/100\n",
      "15060/15060 [==============================] - 1s 61us/step - loss: 3.6886e-04 - val_loss: 0.0021\n",
      "Epoch 84/100\n",
      "15060/15060 [==============================] - 1s 61us/step - loss: 3.8113e-04 - val_loss: 0.0022\n",
      "Epoch 85/100\n",
      "15060/15060 [==============================] - 1s 61us/step - loss: 6.7280e-04 - val_loss: 0.0033\n",
      "Epoch 86/100\n",
      "15060/15060 [==============================] - 1s 61us/step - loss: 8.6266e-04 - val_loss: 0.0029\n",
      "Epoch 87/100\n",
      "15060/15060 [==============================] - 1s 61us/step - loss: 5.9525e-04 - val_loss: 0.0024\n",
      "Epoch 88/100\n",
      "15060/15060 [==============================] - 1s 61us/step - loss: 4.5908e-04 - val_loss: 0.0022\n",
      "Epoch 89/100\n",
      "15060/15060 [==============================] - 1s 61us/step - loss: 4.1517e-04 - val_loss: 0.0022\n",
      "Epoch 90/100\n",
      "15060/15060 [==============================] - 1s 62us/step - loss: 3.8395e-04 - val_loss: 0.0022\n",
      "Epoch 91/100\n",
      "15060/15060 [==============================] - 1s 62us/step - loss: 3.7361e-04 - val_loss: 0.0021\n",
      "Epoch 92/100\n",
      "15060/15060 [==============================] - 1s 61us/step - loss: 3.7870e-04 - val_loss: 0.0021\n",
      "Epoch 93/100\n",
      "15060/15060 [==============================] - 1s 62us/step - loss: 3.5895e-04 - val_loss: 0.0021\n",
      "Epoch 94/100\n",
      "15060/15060 [==============================] - 1s 62us/step - loss: 3.5494e-04 - val_loss: 0.0020\n",
      "Epoch 95/100\n",
      "15060/15060 [==============================] - 1s 62us/step - loss: 3.5464e-04 - val_loss: 0.0021\n",
      "Epoch 96/100\n",
      "15060/15060 [==============================] - 1s 62us/step - loss: 3.5018e-04 - val_loss: 0.0020\n",
      "Epoch 97/100\n",
      "15060/15060 [==============================] - 1s 62us/step - loss: 3.4617e-04 - val_loss: 0.0020\n",
      "Epoch 98/100\n",
      "15060/15060 [==============================] - 1s 61us/step - loss: 3.5388e-04 - val_loss: 0.0022\n",
      "Epoch 99/100\n",
      "15060/15060 [==============================] - 1s 62us/step - loss: 3.5228e-04 - val_loss: 0.0020\n",
      "Epoch 100/100\n",
      "15060/15060 [==============================] - 1s 62us/step - loss: 3.4779e-04 - val_loss: 0.0020\n"
     ]
    },
    {
     "data": {
      "text/plain": [
       "<keras.callbacks.History at 0x7f73246f6128>"
      ]
     },
     "execution_count": 145,
     "metadata": {},
     "output_type": "execute_result"
    }
   ],
   "source": [
    "model.fit(x_train, y_train, validation_data=(x_valid, y_valid), epochs = 100, batch_size=128)"
   ]
  },
  {
   "cell_type": "code",
   "execution_count": 146,
   "metadata": {
    "ExecuteTime": {
     "end_time": "2019-03-20T05:01:07.640112Z",
     "start_time": "2019-03-20T05:01:07.461777Z"
    }
   },
   "outputs": [],
   "source": [
    "predict_ = model.predict(x_test)\n",
    "predict = np.zeros((len(predict_[:,0]), len(predict[0])))"
   ]
  },
  {
   "cell_type": "code",
   "execution_count": 147,
   "metadata": {
    "ExecuteTime": {
     "end_time": "2019-03-20T05:01:08.287755Z",
     "start_time": "2019-03-20T05:01:08.285481Z"
    }
   },
   "outputs": [
    {
     "data": {
      "text/plain": [
       "(5020, 66)"
      ]
     },
     "execution_count": 147,
     "metadata": {},
     "output_type": "execute_result"
    }
   ],
   "source": [
    "predict.shape"
   ]
  },
  {
   "cell_type": "code",
   "execution_count": 148,
   "metadata": {
    "ExecuteTime": {
     "end_time": "2019-03-20T05:01:09.019051Z",
     "start_time": "2019-03-20T05:01:08.945979Z"
    }
   },
   "outputs": [],
   "source": [
    "accuracy = 0\n",
    "for j in range(len(predict_[:,0])):\n",
    "    predict[j,:] = predict_[j] == np.max(predict_[j])\n",
    "    if (np.sum(predict[j] == y_test[j]) == len(predict[j])) == 1 :\n",
    "        accuracy += 1\n",
    "accuracy /= len(predict[:,0])"
   ]
  },
  {
   "cell_type": "code",
   "execution_count": 149,
   "metadata": {
    "ExecuteTime": {
     "end_time": "2019-03-20T05:01:09.690902Z",
     "start_time": "2019-03-20T05:01:09.688457Z"
    }
   },
   "outputs": [
    {
     "data": {
      "text/plain": [
       "0.9093625498007968"
      ]
     },
     "execution_count": 149,
     "metadata": {},
     "output_type": "execute_result"
    }
   ],
   "source": [
    "accuracy"
   ]
  },
  {
   "cell_type": "code",
   "execution_count": 144,
   "metadata": {
    "ExecuteTime": {
     "end_time": "2019-03-20T04:57:37.506679Z",
     "start_time": "2019-03-20T04:57:37.504346Z"
    }
   },
   "outputs": [
    {
     "data": {
      "text/plain": [
       "5020"
      ]
     },
     "execution_count": 144,
     "metadata": {},
     "output_type": "execute_result"
    }
   ],
   "source": [
    "len(predict[:,0])"
   ]
  },
  {
   "cell_type": "code",
   "execution_count": null,
   "metadata": {},
   "outputs": [],
   "source": []
  }
 ],
 "metadata": {
  "kernelspec": {
   "display_name": "Python 3",
   "language": "python",
   "name": "python3"
  },
  "language_info": {
   "codemirror_mode": {
    "name": "ipython",
    "version": 3
   },
   "file_extension": ".py",
   "mimetype": "text/x-python",
   "name": "python",
   "nbconvert_exporter": "python",
   "pygments_lexer": "ipython3",
   "version": "3.6.5"
  },
  "latex_envs": {
   "LaTeX_envs_menu_present": true,
   "autoclose": false,
   "autocomplete": true,
   "bibliofile": "biblio.bib",
   "cite_by": "apalike",
   "current_citInitial": 1,
   "eqLabelWithNumbers": true,
   "eqNumInitial": 1,
   "hotkeys": {
    "equation": "Ctrl-E",
    "itemize": "Ctrl-I"
   },
   "labels_anchors": false,
   "latex_user_defs": false,
   "report_style_numbering": false,
   "user_envs_cfg": false
  },
  "varInspector": {
   "cols": {
    "lenName": 16,
    "lenType": 16,
    "lenVar": 40
   },
   "kernels_config": {
    "python": {
     "delete_cmd_postfix": "",
     "delete_cmd_prefix": "del ",
     "library": "var_list.py",
     "varRefreshCmd": "print(var_dic_list())"
    },
    "r": {
     "delete_cmd_postfix": ") ",
     "delete_cmd_prefix": "rm(",
     "library": "var_list.r",
     "varRefreshCmd": "cat(var_dic_list()) "
    }
   },
   "position": {
    "height": "799.5px",
    "left": "622px",
    "right": "20px",
    "top": "120px",
    "width": "350px"
   },
   "types_to_exclude": [
    "module",
    "function",
    "builtin_function_or_method",
    "instance",
    "_Feature"
   ],
   "window_display": false
  }
 },
 "nbformat": 4,
 "nbformat_minor": 2
}
